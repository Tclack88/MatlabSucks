{
  "nbformat": 4,
  "nbformat_minor": 0,
  "metadata": {
    "colab": {
      "name": "Instron_compression_tests.ipynb",
      "provenance": [],
      "collapsed_sections": [],
      "authorship_tag": "ABX9TyNspZLV3SieHEFYQFG7d0Dl",
      "include_colab_link": true
    },
    "kernelspec": {
      "name": "python3",
      "display_name": "Python 3"
    },
    "language_info": {
      "name": "python"
    }
  },
  "cells": [
    {
      "cell_type": "markdown",
      "metadata": {
        "id": "view-in-github",
        "colab_type": "text"
      },
      "source": [
        "<a href=\"https://colab.research.google.com/github/Tclack88/MatlabSucks/blob/main/eng_mech/Instron_compression_tests.ipynb\" target=\"_parent\"><img src=\"https://colab.research.google.com/assets/colab-badge.svg\" alt=\"Open In Colab\"/></a>"
      ]
    },
    {
      "cell_type": "code",
      "execution_count": 50,
      "metadata": {
        "id": "YdtXS0pnd0h8"
      },
      "outputs": [],
      "source": [
        "import pandas as pd\n",
        "import seaborn as sb\n",
        "import matplotlib.pyplot as plt\n",
        "import numpy as np\n",
        "from numpy import pi"
      ]
    },
    {
      "cell_type": "code",
      "source": [
        "!pip install xlrd==1.2"
      ],
      "metadata": {
        "id": "zSdqXbbvUb94"
      },
      "execution_count": null,
      "outputs": []
    },
    {
      "cell_type": "code",
      "source": [
        "al_dat = \"https://raw.githubusercontent.com/Tclack88/MatlabSucks/main/eng_mech/G04/M2_G4W4_Al_1.csv\"\n",
        "cer_dat = \"https://raw.githubusercontent.com/Tclack88/MatlabSucks/main/eng_mech/G04/M2_G4W4_Cer_1.csv\"\n",
        "pvc_dat = \"https://raw.githubusercontent.com/Tclack88/MatlabSucks/main/eng_mech/G04/M2_G4W4_%20PVC_1.csv\"\n",
        "\n",
        "temp_al_dat = 'https://github.com/ProfessorKazarinoff/staticsite/raw/master/content/code/matplotlib_plots/stress_strain_curves/aluminum6061.xls'\n",
        "\n",
        "old_cols = ['Compressive displacement', 'Primary force measurement', 'Time measurement']\n",
        "new_cols = ['disp', 'force', 'time'] # given in displacement (mm), force (kN), time (s)\n",
        "cols = dict(zip(old_cols, new_cols))"
      ],
      "metadata": {
        "id": "25puG6k_d3yt"
      },
      "execution_count": null,
      "outputs": []
    },
    {
      "cell_type": "code",
      "source": [
        "# !wget temp_al_dat\n",
        "new_al = pd.read_excel(temp_al_dat)\n",
        "new_al\n",
        "new_al = new_al[['POSIT','FORCE', 'EXT']]\n",
        "new_al.columns = ['disp','force', 'strain']\n",
        "new_al.force = 0.0044482216*new_al.force*1000 # convert lb to N\n",
        "new_al.disp = 25.4*new_al.disp # convert inches to mm\n",
        "new_al.strain = .01*new_al.strain # change percent to decimal\n",
        "\n",
        "new_al_d = .506*25.4 # mm to inches \n",
        "new_al"
      ],
      "metadata": {
        "colab": {
          "base_uri": "https://localhost:8080/",
          "height": 441
        },
        "id": "8La2jM1kUNep",
        "outputId": "7d9919f6-ea09-40fe-84d0-24faf0430f39"
      },
      "execution_count": null,
      "outputs": [
        {
          "output_type": "stream",
          "name": "stdout",
          "text": [
            "WARNING *** OLE2 inconsistency: SSCS size is 0 but SSAT size is non-zero\n"
          ]
        },
        {
          "output_type": "execute_result",
          "data": {
            "text/plain": [
              "          disp         force    strain\n",
              "0     0.387096    894.797622  0.000189\n",
              "1     0.406400    916.236318  0.000003\n",
              "2     0.436880    975.474716 -0.000009\n",
              "3     0.596900   1194.373699  0.000015\n",
              "4     0.763016   1432.452651  0.000019\n",
              "..         ...           ...       ...\n",
              "195  16.962627  36399.560607  0.030071\n",
              "196  17.022064  36136.978697  0.030071\n",
              "197  17.061687  35918.909412  0.030071\n",
              "198  17.100803  35672.100444  0.030071\n",
              "199  17.120108  35485.583559  0.030071\n",
              "\n",
              "[200 rows x 3 columns]"
            ],
            "text/html": [
              "\n",
              "  <div id=\"df-a3565993-1132-4f75-aa7c-d608fa1b3282\">\n",
              "    <div class=\"colab-df-container\">\n",
              "      <div>\n",
              "<style scoped>\n",
              "    .dataframe tbody tr th:only-of-type {\n",
              "        vertical-align: middle;\n",
              "    }\n",
              "\n",
              "    .dataframe tbody tr th {\n",
              "        vertical-align: top;\n",
              "    }\n",
              "\n",
              "    .dataframe thead th {\n",
              "        text-align: right;\n",
              "    }\n",
              "</style>\n",
              "<table border=\"1\" class=\"dataframe\">\n",
              "  <thead>\n",
              "    <tr style=\"text-align: right;\">\n",
              "      <th></th>\n",
              "      <th>disp</th>\n",
              "      <th>force</th>\n",
              "      <th>strain</th>\n",
              "    </tr>\n",
              "  </thead>\n",
              "  <tbody>\n",
              "    <tr>\n",
              "      <th>0</th>\n",
              "      <td>0.387096</td>\n",
              "      <td>894.797622</td>\n",
              "      <td>0.000189</td>\n",
              "    </tr>\n",
              "    <tr>\n",
              "      <th>1</th>\n",
              "      <td>0.406400</td>\n",
              "      <td>916.236318</td>\n",
              "      <td>0.000003</td>\n",
              "    </tr>\n",
              "    <tr>\n",
              "      <th>2</th>\n",
              "      <td>0.436880</td>\n",
              "      <td>975.474716</td>\n",
              "      <td>-0.000009</td>\n",
              "    </tr>\n",
              "    <tr>\n",
              "      <th>3</th>\n",
              "      <td>0.596900</td>\n",
              "      <td>1194.373699</td>\n",
              "      <td>0.000015</td>\n",
              "    </tr>\n",
              "    <tr>\n",
              "      <th>4</th>\n",
              "      <td>0.763016</td>\n",
              "      <td>1432.452651</td>\n",
              "      <td>0.000019</td>\n",
              "    </tr>\n",
              "    <tr>\n",
              "      <th>...</th>\n",
              "      <td>...</td>\n",
              "      <td>...</td>\n",
              "      <td>...</td>\n",
              "    </tr>\n",
              "    <tr>\n",
              "      <th>195</th>\n",
              "      <td>16.962627</td>\n",
              "      <td>36399.560607</td>\n",
              "      <td>0.030071</td>\n",
              "    </tr>\n",
              "    <tr>\n",
              "      <th>196</th>\n",
              "      <td>17.022064</td>\n",
              "      <td>36136.978697</td>\n",
              "      <td>0.030071</td>\n",
              "    </tr>\n",
              "    <tr>\n",
              "      <th>197</th>\n",
              "      <td>17.061687</td>\n",
              "      <td>35918.909412</td>\n",
              "      <td>0.030071</td>\n",
              "    </tr>\n",
              "    <tr>\n",
              "      <th>198</th>\n",
              "      <td>17.100803</td>\n",
              "      <td>35672.100444</td>\n",
              "      <td>0.030071</td>\n",
              "    </tr>\n",
              "    <tr>\n",
              "      <th>199</th>\n",
              "      <td>17.120108</td>\n",
              "      <td>35485.583559</td>\n",
              "      <td>0.030071</td>\n",
              "    </tr>\n",
              "  </tbody>\n",
              "</table>\n",
              "<p>200 rows × 3 columns</p>\n",
              "</div>\n",
              "      <button class=\"colab-df-convert\" onclick=\"convertToInteractive('df-a3565993-1132-4f75-aa7c-d608fa1b3282')\"\n",
              "              title=\"Convert this dataframe to an interactive table.\"\n",
              "              style=\"display:none;\">\n",
              "        \n",
              "  <svg xmlns=\"http://www.w3.org/2000/svg\" height=\"24px\"viewBox=\"0 0 24 24\"\n",
              "       width=\"24px\">\n",
              "    <path d=\"M0 0h24v24H0V0z\" fill=\"none\"/>\n",
              "    <path d=\"M18.56 5.44l.94 2.06.94-2.06 2.06-.94-2.06-.94-.94-2.06-.94 2.06-2.06.94zm-11 1L8.5 8.5l.94-2.06 2.06-.94-2.06-.94L8.5 2.5l-.94 2.06-2.06.94zm10 10l.94 2.06.94-2.06 2.06-.94-2.06-.94-.94-2.06-.94 2.06-2.06.94z\"/><path d=\"M17.41 7.96l-1.37-1.37c-.4-.4-.92-.59-1.43-.59-.52 0-1.04.2-1.43.59L10.3 9.45l-7.72 7.72c-.78.78-.78 2.05 0 2.83L4 21.41c.39.39.9.59 1.41.59.51 0 1.02-.2 1.41-.59l7.78-7.78 2.81-2.81c.8-.78.8-2.07 0-2.86zM5.41 20L4 18.59l7.72-7.72 1.47 1.35L5.41 20z\"/>\n",
              "  </svg>\n",
              "      </button>\n",
              "      \n",
              "  <style>\n",
              "    .colab-df-container {\n",
              "      display:flex;\n",
              "      flex-wrap:wrap;\n",
              "      gap: 12px;\n",
              "    }\n",
              "\n",
              "    .colab-df-convert {\n",
              "      background-color: #E8F0FE;\n",
              "      border: none;\n",
              "      border-radius: 50%;\n",
              "      cursor: pointer;\n",
              "      display: none;\n",
              "      fill: #1967D2;\n",
              "      height: 32px;\n",
              "      padding: 0 0 0 0;\n",
              "      width: 32px;\n",
              "    }\n",
              "\n",
              "    .colab-df-convert:hover {\n",
              "      background-color: #E2EBFA;\n",
              "      box-shadow: 0px 1px 2px rgba(60, 64, 67, 0.3), 0px 1px 3px 1px rgba(60, 64, 67, 0.15);\n",
              "      fill: #174EA6;\n",
              "    }\n",
              "\n",
              "    [theme=dark] .colab-df-convert {\n",
              "      background-color: #3B4455;\n",
              "      fill: #D2E3FC;\n",
              "    }\n",
              "\n",
              "    [theme=dark] .colab-df-convert:hover {\n",
              "      background-color: #434B5C;\n",
              "      box-shadow: 0px 1px 3px 1px rgba(0, 0, 0, 0.15);\n",
              "      filter: drop-shadow(0px 1px 2px rgba(0, 0, 0, 0.3));\n",
              "      fill: #FFFFFF;\n",
              "    }\n",
              "  </style>\n",
              "\n",
              "      <script>\n",
              "        const buttonEl =\n",
              "          document.querySelector('#df-a3565993-1132-4f75-aa7c-d608fa1b3282 button.colab-df-convert');\n",
              "        buttonEl.style.display =\n",
              "          google.colab.kernel.accessAllowed ? 'block' : 'none';\n",
              "\n",
              "        async function convertToInteractive(key) {\n",
              "          const element = document.querySelector('#df-a3565993-1132-4f75-aa7c-d608fa1b3282');\n",
              "          const dataTable =\n",
              "            await google.colab.kernel.invokeFunction('convertToInteractive',\n",
              "                                                     [key], {});\n",
              "          if (!dataTable) return;\n",
              "\n",
              "          const docLinkHtml = 'Like what you see? Visit the ' +\n",
              "            '<a target=\"_blank\" href=https://colab.research.google.com/notebooks/data_table.ipynb>data table notebook</a>'\n",
              "            + ' to learn more about interactive tables.';\n",
              "          element.innerHTML = '';\n",
              "          dataTable['output_type'] = 'display_data';\n",
              "          await google.colab.output.renderOutput(dataTable, element);\n",
              "          const docLink = document.createElement('div');\n",
              "          docLink.innerHTML = docLinkHtml;\n",
              "          element.appendChild(docLink);\n",
              "        }\n",
              "      </script>\n",
              "    </div>\n",
              "  </div>\n",
              "  "
            ]
          },
          "metadata": {},
          "execution_count": 28
        }
      ]
    },
    {
      "cell_type": "code",
      "source": [
        "# tabularize specimen data\n",
        "al = pd.read_csv(al_dat)[1:].rename(columns = cols).astype(float)\n",
        "pvc = pd.read_csv(pvc_dat)[1:].rename(columns = cols).astype(float)\n",
        "cer = pd.read_csv(cer_dat)[1:].rename(columns = cols).astype(float)\n",
        "\n",
        "# change Force to SI units (no change to length because it will be cancelled)\n",
        "al.force = al.force*1000\n",
        "pvc.force = pvc.force*1000\n",
        "cer.force = cer.force*1000\n",
        "\n",
        "# measurements (lengths and diameters in mm)\n",
        "al_l = 17.80\n",
        "al_d = 11.93\n",
        "\n",
        "cer_l = 24.93\n",
        "cer_d = 11.45\n",
        "cer_di1 = 4.05\n",
        "cer_di2 = 4.08\n",
        "\n",
        "pvc_l = 40.74\n",
        "pvc_d = 21.06\n",
        "\n",
        "\n",
        "\n",
        "def Area(d):\n",
        "  # given diameter (mm), returns area in m^2\n",
        "  return pi*(.001*d/2)**2\n",
        "\n",
        "A_al = Area(al_d)\n",
        "A_pvc = Area(pvc_d)\n",
        "A_cer = Area(cer_d) - Area(cer_di1) - Area(cer_di2) # subtract areas from holes\n",
        "\n",
        "A_new_al = Area(new_al_d)\n",
        "\n",
        "al.head()"
      ],
      "metadata": {
        "colab": {
          "base_uri": "https://localhost:8080/",
          "height": 206
        },
        "id": "EFWY9n5WeTRX",
        "outputId": "5c429f9b-cc9d-458b-9fff-b13072ede9bb"
      },
      "execution_count": null,
      "outputs": [
        {
          "output_type": "execute_result",
          "data": {
            "text/plain": [
              "      disp  force  time\n",
              "1  0.00000   0.09  0.00\n",
              "2  0.00005   0.42  0.02\n",
              "3  0.00027   0.39  0.04\n",
              "4  0.00095   0.21  0.06\n",
              "5  0.00139  -0.16  0.08"
            ],
            "text/html": [
              "\n",
              "  <div id=\"df-e329154b-e10f-4069-ac73-87fd356a3ad9\">\n",
              "    <div class=\"colab-df-container\">\n",
              "      <div>\n",
              "<style scoped>\n",
              "    .dataframe tbody tr th:only-of-type {\n",
              "        vertical-align: middle;\n",
              "    }\n",
              "\n",
              "    .dataframe tbody tr th {\n",
              "        vertical-align: top;\n",
              "    }\n",
              "\n",
              "    .dataframe thead th {\n",
              "        text-align: right;\n",
              "    }\n",
              "</style>\n",
              "<table border=\"1\" class=\"dataframe\">\n",
              "  <thead>\n",
              "    <tr style=\"text-align: right;\">\n",
              "      <th></th>\n",
              "      <th>disp</th>\n",
              "      <th>force</th>\n",
              "      <th>time</th>\n",
              "    </tr>\n",
              "  </thead>\n",
              "  <tbody>\n",
              "    <tr>\n",
              "      <th>1</th>\n",
              "      <td>0.00000</td>\n",
              "      <td>0.09</td>\n",
              "      <td>0.00</td>\n",
              "    </tr>\n",
              "    <tr>\n",
              "      <th>2</th>\n",
              "      <td>0.00005</td>\n",
              "      <td>0.42</td>\n",
              "      <td>0.02</td>\n",
              "    </tr>\n",
              "    <tr>\n",
              "      <th>3</th>\n",
              "      <td>0.00027</td>\n",
              "      <td>0.39</td>\n",
              "      <td>0.04</td>\n",
              "    </tr>\n",
              "    <tr>\n",
              "      <th>4</th>\n",
              "      <td>0.00095</td>\n",
              "      <td>0.21</td>\n",
              "      <td>0.06</td>\n",
              "    </tr>\n",
              "    <tr>\n",
              "      <th>5</th>\n",
              "      <td>0.00139</td>\n",
              "      <td>-0.16</td>\n",
              "      <td>0.08</td>\n",
              "    </tr>\n",
              "  </tbody>\n",
              "</table>\n",
              "</div>\n",
              "      <button class=\"colab-df-convert\" onclick=\"convertToInteractive('df-e329154b-e10f-4069-ac73-87fd356a3ad9')\"\n",
              "              title=\"Convert this dataframe to an interactive table.\"\n",
              "              style=\"display:none;\">\n",
              "        \n",
              "  <svg xmlns=\"http://www.w3.org/2000/svg\" height=\"24px\"viewBox=\"0 0 24 24\"\n",
              "       width=\"24px\">\n",
              "    <path d=\"M0 0h24v24H0V0z\" fill=\"none\"/>\n",
              "    <path d=\"M18.56 5.44l.94 2.06.94-2.06 2.06-.94-2.06-.94-.94-2.06-.94 2.06-2.06.94zm-11 1L8.5 8.5l.94-2.06 2.06-.94-2.06-.94L8.5 2.5l-.94 2.06-2.06.94zm10 10l.94 2.06.94-2.06 2.06-.94-2.06-.94-.94-2.06-.94 2.06-2.06.94z\"/><path d=\"M17.41 7.96l-1.37-1.37c-.4-.4-.92-.59-1.43-.59-.52 0-1.04.2-1.43.59L10.3 9.45l-7.72 7.72c-.78.78-.78 2.05 0 2.83L4 21.41c.39.39.9.59 1.41.59.51 0 1.02-.2 1.41-.59l7.78-7.78 2.81-2.81c.8-.78.8-2.07 0-2.86zM5.41 20L4 18.59l7.72-7.72 1.47 1.35L5.41 20z\"/>\n",
              "  </svg>\n",
              "      </button>\n",
              "      \n",
              "  <style>\n",
              "    .colab-df-container {\n",
              "      display:flex;\n",
              "      flex-wrap:wrap;\n",
              "      gap: 12px;\n",
              "    }\n",
              "\n",
              "    .colab-df-convert {\n",
              "      background-color: #E8F0FE;\n",
              "      border: none;\n",
              "      border-radius: 50%;\n",
              "      cursor: pointer;\n",
              "      display: none;\n",
              "      fill: #1967D2;\n",
              "      height: 32px;\n",
              "      padding: 0 0 0 0;\n",
              "      width: 32px;\n",
              "    }\n",
              "\n",
              "    .colab-df-convert:hover {\n",
              "      background-color: #E2EBFA;\n",
              "      box-shadow: 0px 1px 2px rgba(60, 64, 67, 0.3), 0px 1px 3px 1px rgba(60, 64, 67, 0.15);\n",
              "      fill: #174EA6;\n",
              "    }\n",
              "\n",
              "    [theme=dark] .colab-df-convert {\n",
              "      background-color: #3B4455;\n",
              "      fill: #D2E3FC;\n",
              "    }\n",
              "\n",
              "    [theme=dark] .colab-df-convert:hover {\n",
              "      background-color: #434B5C;\n",
              "      box-shadow: 0px 1px 3px 1px rgba(0, 0, 0, 0.15);\n",
              "      filter: drop-shadow(0px 1px 2px rgba(0, 0, 0, 0.3));\n",
              "      fill: #FFFFFF;\n",
              "    }\n",
              "  </style>\n",
              "\n",
              "      <script>\n",
              "        const buttonEl =\n",
              "          document.querySelector('#df-e329154b-e10f-4069-ac73-87fd356a3ad9 button.colab-df-convert');\n",
              "        buttonEl.style.display =\n",
              "          google.colab.kernel.accessAllowed ? 'block' : 'none';\n",
              "\n",
              "        async function convertToInteractive(key) {\n",
              "          const element = document.querySelector('#df-e329154b-e10f-4069-ac73-87fd356a3ad9');\n",
              "          const dataTable =\n",
              "            await google.colab.kernel.invokeFunction('convertToInteractive',\n",
              "                                                     [key], {});\n",
              "          if (!dataTable) return;\n",
              "\n",
              "          const docLinkHtml = 'Like what you see? Visit the ' +\n",
              "            '<a target=\"_blank\" href=https://colab.research.google.com/notebooks/data_table.ipynb>data table notebook</a>'\n",
              "            + ' to learn more about interactive tables.';\n",
              "          element.innerHTML = '';\n",
              "          dataTable['output_type'] = 'display_data';\n",
              "          await google.colab.output.renderOutput(dataTable, element);\n",
              "          const docLink = document.createElement('div');\n",
              "          docLink.innerHTML = docLinkHtml;\n",
              "          element.appendChild(docLink);\n",
              "        }\n",
              "      </script>\n",
              "    </div>\n",
              "  </div>\n",
              "  "
            ]
          },
          "metadata": {},
          "execution_count": 29
        }
      ]
    },
    {
      "cell_type": "code",
      "source": [
        "# find stress in MPa\n",
        "al['stress'] = al.force/A_al/1e6\n",
        "pvc['stress'] = pvc.force/A_pvc/1e6\n",
        "cer['stress'] = cer.force/A_cer/1e6\n",
        "# find strain. unitless\n",
        "al['strain'] = al.disp/al_l\n",
        "pvc['strain'] = pvc.disp/pvc_l\n",
        "cer['strain'] = cer.disp/cer_l\n",
        "\n",
        "new_al['stress'] = new_al.force/A_new_al/1e6\n",
        "\n",
        "al.head()"
      ],
      "metadata": {
        "colab": {
          "base_uri": "https://localhost:8080/",
          "height": 206
        },
        "id": "rZiWkWddecVo",
        "outputId": "fab2ccad-06c1-404a-cf89-68f203fe7ac1"
      },
      "execution_count": null,
      "outputs": [
        {
          "output_type": "execute_result",
          "data": {
            "text/plain": [
              "      disp  force  time    stress    strain\n",
              "1  0.00000   0.09  0.00  0.000805  0.000000\n",
              "2  0.00005   0.42  0.02  0.003757  0.000003\n",
              "3  0.00027   0.39  0.04  0.003489  0.000015\n",
              "4  0.00095   0.21  0.06  0.001879  0.000053\n",
              "5  0.00139  -0.16  0.08 -0.001431  0.000078"
            ],
            "text/html": [
              "\n",
              "  <div id=\"df-b0e2f492-27e1-4b35-b747-415084ebdb3f\">\n",
              "    <div class=\"colab-df-container\">\n",
              "      <div>\n",
              "<style scoped>\n",
              "    .dataframe tbody tr th:only-of-type {\n",
              "        vertical-align: middle;\n",
              "    }\n",
              "\n",
              "    .dataframe tbody tr th {\n",
              "        vertical-align: top;\n",
              "    }\n",
              "\n",
              "    .dataframe thead th {\n",
              "        text-align: right;\n",
              "    }\n",
              "</style>\n",
              "<table border=\"1\" class=\"dataframe\">\n",
              "  <thead>\n",
              "    <tr style=\"text-align: right;\">\n",
              "      <th></th>\n",
              "      <th>disp</th>\n",
              "      <th>force</th>\n",
              "      <th>time</th>\n",
              "      <th>stress</th>\n",
              "      <th>strain</th>\n",
              "    </tr>\n",
              "  </thead>\n",
              "  <tbody>\n",
              "    <tr>\n",
              "      <th>1</th>\n",
              "      <td>0.00000</td>\n",
              "      <td>0.09</td>\n",
              "      <td>0.00</td>\n",
              "      <td>0.000805</td>\n",
              "      <td>0.000000</td>\n",
              "    </tr>\n",
              "    <tr>\n",
              "      <th>2</th>\n",
              "      <td>0.00005</td>\n",
              "      <td>0.42</td>\n",
              "      <td>0.02</td>\n",
              "      <td>0.003757</td>\n",
              "      <td>0.000003</td>\n",
              "    </tr>\n",
              "    <tr>\n",
              "      <th>3</th>\n",
              "      <td>0.00027</td>\n",
              "      <td>0.39</td>\n",
              "      <td>0.04</td>\n",
              "      <td>0.003489</td>\n",
              "      <td>0.000015</td>\n",
              "    </tr>\n",
              "    <tr>\n",
              "      <th>4</th>\n",
              "      <td>0.00095</td>\n",
              "      <td>0.21</td>\n",
              "      <td>0.06</td>\n",
              "      <td>0.001879</td>\n",
              "      <td>0.000053</td>\n",
              "    </tr>\n",
              "    <tr>\n",
              "      <th>5</th>\n",
              "      <td>0.00139</td>\n",
              "      <td>-0.16</td>\n",
              "      <td>0.08</td>\n",
              "      <td>-0.001431</td>\n",
              "      <td>0.000078</td>\n",
              "    </tr>\n",
              "  </tbody>\n",
              "</table>\n",
              "</div>\n",
              "      <button class=\"colab-df-convert\" onclick=\"convertToInteractive('df-b0e2f492-27e1-4b35-b747-415084ebdb3f')\"\n",
              "              title=\"Convert this dataframe to an interactive table.\"\n",
              "              style=\"display:none;\">\n",
              "        \n",
              "  <svg xmlns=\"http://www.w3.org/2000/svg\" height=\"24px\"viewBox=\"0 0 24 24\"\n",
              "       width=\"24px\">\n",
              "    <path d=\"M0 0h24v24H0V0z\" fill=\"none\"/>\n",
              "    <path d=\"M18.56 5.44l.94 2.06.94-2.06 2.06-.94-2.06-.94-.94-2.06-.94 2.06-2.06.94zm-11 1L8.5 8.5l.94-2.06 2.06-.94-2.06-.94L8.5 2.5l-.94 2.06-2.06.94zm10 10l.94 2.06.94-2.06 2.06-.94-2.06-.94-.94-2.06-.94 2.06-2.06.94z\"/><path d=\"M17.41 7.96l-1.37-1.37c-.4-.4-.92-.59-1.43-.59-.52 0-1.04.2-1.43.59L10.3 9.45l-7.72 7.72c-.78.78-.78 2.05 0 2.83L4 21.41c.39.39.9.59 1.41.59.51 0 1.02-.2 1.41-.59l7.78-7.78 2.81-2.81c.8-.78.8-2.07 0-2.86zM5.41 20L4 18.59l7.72-7.72 1.47 1.35L5.41 20z\"/>\n",
              "  </svg>\n",
              "      </button>\n",
              "      \n",
              "  <style>\n",
              "    .colab-df-container {\n",
              "      display:flex;\n",
              "      flex-wrap:wrap;\n",
              "      gap: 12px;\n",
              "    }\n",
              "\n",
              "    .colab-df-convert {\n",
              "      background-color: #E8F0FE;\n",
              "      border: none;\n",
              "      border-radius: 50%;\n",
              "      cursor: pointer;\n",
              "      display: none;\n",
              "      fill: #1967D2;\n",
              "      height: 32px;\n",
              "      padding: 0 0 0 0;\n",
              "      width: 32px;\n",
              "    }\n",
              "\n",
              "    .colab-df-convert:hover {\n",
              "      background-color: #E2EBFA;\n",
              "      box-shadow: 0px 1px 2px rgba(60, 64, 67, 0.3), 0px 1px 3px 1px rgba(60, 64, 67, 0.15);\n",
              "      fill: #174EA6;\n",
              "    }\n",
              "\n",
              "    [theme=dark] .colab-df-convert {\n",
              "      background-color: #3B4455;\n",
              "      fill: #D2E3FC;\n",
              "    }\n",
              "\n",
              "    [theme=dark] .colab-df-convert:hover {\n",
              "      background-color: #434B5C;\n",
              "      box-shadow: 0px 1px 3px 1px rgba(0, 0, 0, 0.15);\n",
              "      filter: drop-shadow(0px 1px 2px rgba(0, 0, 0, 0.3));\n",
              "      fill: #FFFFFF;\n",
              "    }\n",
              "  </style>\n",
              "\n",
              "      <script>\n",
              "        const buttonEl =\n",
              "          document.querySelector('#df-b0e2f492-27e1-4b35-b747-415084ebdb3f button.colab-df-convert');\n",
              "        buttonEl.style.display =\n",
              "          google.colab.kernel.accessAllowed ? 'block' : 'none';\n",
              "\n",
              "        async function convertToInteractive(key) {\n",
              "          const element = document.querySelector('#df-b0e2f492-27e1-4b35-b747-415084ebdb3f');\n",
              "          const dataTable =\n",
              "            await google.colab.kernel.invokeFunction('convertToInteractive',\n",
              "                                                     [key], {});\n",
              "          if (!dataTable) return;\n",
              "\n",
              "          const docLinkHtml = 'Like what you see? Visit the ' +\n",
              "            '<a target=\"_blank\" href=https://colab.research.google.com/notebooks/data_table.ipynb>data table notebook</a>'\n",
              "            + ' to learn more about interactive tables.';\n",
              "          element.innerHTML = '';\n",
              "          dataTable['output_type'] = 'display_data';\n",
              "          await google.colab.output.renderOutput(dataTable, element);\n",
              "          const docLink = document.createElement('div');\n",
              "          docLink.innerHTML = docLinkHtml;\n",
              "          element.appendChild(docLink);\n",
              "        }\n",
              "      </script>\n",
              "    </div>\n",
              "  </div>\n",
              "  "
            ]
          },
          "metadata": {},
          "execution_count": 30
        }
      ]
    },
    {
      "cell_type": "code",
      "source": [
        "custom_params = {\"axes.spines.right\": False, \"axes.spines.top\": False}\n",
        "sb.set_theme(style='ticks', rc=custom_params)\n",
        "\n",
        "plot = sb.lineplot(x=al.strain, y=al.stress);\n",
        "plot.set(title='Stress-Strain Relation of Aluminum Sample');\n",
        "plot.set(ylabel='stress (MPa)');"
      ],
      "metadata": {
        "colab": {
          "base_uri": "https://localhost:8080/",
          "height": 301
        },
        "id": "1ERt8UR4etaf",
        "outputId": "b2c695b9-a51d-431a-b701-cca0a0ccc110"
      },
      "execution_count": null,
      "outputs": [
        {
          "output_type": "display_data",
          "data": {
            "text/plain": [
              "<Figure size 432x288 with 1 Axes>"
            ],
            "image/png": "[encoded data removed]"
          },
          "metadata": {}
        }
      ]
    },
    {
      "cell_type": "code",
      "source": [
        "plot = sb.lineplot(x=new_al.strain, y=new_al.stress);\n",
        "plot.set(title='Stress-Strain Relation of NEW Aluminum Sample');\n",
        "plot.set(ylabel='stress (MPa)');"
      ],
      "metadata": {
        "colab": {
          "base_uri": "https://localhost:8080/",
          "height": 301
        },
        "id": "4DjaBM5-d1t0",
        "outputId": "8540f593-e4fe-4b9d-e87f-225fee3e2d05"
      },
      "execution_count": null,
      "outputs": [
        {
          "output_type": "display_data",
          "data": {
            "text/plain": [
              "<Figure size 432x288 with 1 Axes>"
            ],
            "image/png": "[encoded data removed]"
          },
          "metadata": {}
        }
      ]
    },
    {
      "cell_type": "code",
      "source": [
        "plot = sb.lineplot(pvc.strain, pvc.stress);\n",
        "plot.set(title='Stress-Strain Relation of PVC Sample');\n",
        "plot.set(ylabel='stress (MPa)');"
      ],
      "metadata": {
        "colab": {
          "base_uri": "https://localhost:8080/",
          "height": 356
        },
        "id": "-cw3j1kan7fv",
        "outputId": "6b2e5904-f240-4a7b-db1d-57e370762173"
      },
      "execution_count": null,
      "outputs": [
        {
          "output_type": "stream",
          "name": "stderr",
          "text": [
            "/usr/local/lib/python3.7/dist-packages/seaborn/_decorators.py:43: FutureWarning: Pass the following variables as keyword args: x, y. From version 0.12, the only valid positional argument will be `data`, and passing other arguments without an explicit keyword will result in an error or misinterpretation.\n",
            "  FutureWarning\n"
          ]
        },
        {
          "output_type": "display_data",
          "data": {
            "text/plain": [
              "<Figure size 432x288 with 1 Axes>"
            ],
            "image/png": "[encoded data removed]"
          },
          "metadata": {}
        }
      ]
    },
    {
      "cell_type": "code",
      "source": [
        "plot = sb.lineplot(cer.strain,cer.stress);\n",
        "plot.set(title='Stress-Strain Relation of Ceramic Sample');\n",
        "plot.set(ylabel='stress (MPa)');"
      ],
      "metadata": {
        "colab": {
          "base_uri": "https://localhost:8080/",
          "height": 356
        },
        "id": "TWcyJAhtn-_S",
        "outputId": "673ee7ec-34f6-4ac7-d0fd-46f0b2f73fa0"
      },
      "execution_count": null,
      "outputs": [
        {
          "output_type": "stream",
          "name": "stderr",
          "text": [
            "/usr/local/lib/python3.7/dist-packages/seaborn/_decorators.py:43: FutureWarning: Pass the following variables as keyword args: x, y. From version 0.12, the only valid positional argument will be `data`, and passing other arguments without an explicit keyword will result in an error or misinterpretation.\n",
            "  FutureWarning\n"
          ]
        },
        {
          "output_type": "display_data",
          "data": {
            "text/plain": [
              "<Figure size 432x288 with 1 Axes>"
            ],
            "image/png": "[encoded data removed]"
          },
          "metadata": {}
        }
      ]
    },
    {
      "cell_type": "code",
      "source": [
        "al.shape"
      ],
      "metadata": {
        "colab": {
          "base_uri": "https://localhost:8080/"
        },
        "id": "RdYBus5EuhYM",
        "outputId": "bf36bb32-a466-4ecd-b890-445fdc94fbee"
      },
      "execution_count": null,
      "outputs": [
        {
          "output_type": "execute_result",
          "data": {
            "text/plain": [
              "(9148, 5)"
            ]
          },
          "metadata": {},
          "execution_count": 86
        }
      ]
    },
    {
      "cell_type": "code",
      "source": [
        "def find_neighbor(col, val):\n",
        "  #returns an row with a col very close to the given value\n",
        "  for i,value in enumerate(col):\n",
        "    if value >= val:\n",
        "      break\n",
        "  return i\n",
        "\n",
        "def youngs_modulus(dat, low, high):\n",
        "  # Given dataframat (dat), and two values for STRESS (low and high) obtained from inspection\n",
        "  # this will return the slope, i.e. young's modulus\n",
        "  row1 = find_neighbor(dat.stress, low) # get index of column containing ~ low estimate\n",
        "  row2 = find_neighbor(dat.stress, high) # get index of column containing ~ high estimate\n",
        "\n",
        "  rise = dat.loc[row2,:].stress - dat.loc[row1,:].stress\n",
        "  run = dat.loc[row2,:].strain - dat.loc[row1,:].strain\n",
        "  E = rise/run # young's modulus = slope\n",
        "\n",
        "  return E\n",
        "\n",
        "\n",
        "E_al = youngs_modulus(al, 50, 150)\n",
        "E_pvc = youngs_modulus(pvc, 10, 70)\n",
        "E_cer = youngs_modulus(cer, 100, 600)\n",
        "\n",
        "E_new_al = youngs_modulus(new_al,50,250)\n",
        "\n",
        "print(f'Al - {round(E_al,2)} MPa')    # expected 70 GPa (70000 Mpa)\n",
        "print(f'pvc - {round(E_pvc,2)} MPa')  # 3275 Mpa expected\n",
        "print(f'cer - {round(E_cer,2)} MPa')  # 215-413 Gpa expected (215000 - 413000 Mpa\n",
        "\n",
        "print(f'new Al - {round(E_new_al,2)} MPa')    # expected 70 GPa (70000 Mpa)\n"
      ],
      "metadata": {
        "colab": {
          "base_uri": "https://localhost:8080/"
        },
        "id": "zRU5NdYNt00d",
        "outputId": "25de2b0e-8a27-41b3-cb9f-fd238fbada67"
      },
      "execution_count": 36,
      "outputs": [
        {
          "output_type": "stream",
          "name": "stdout",
          "text": [
            "Al - 6870.29 MPa\n",
            "pvc - 2424.6 MPa\n",
            "cer - 25732.28 MPa\n",
            "new Al - 62183.95 MPa\n"
          ]
        }
      ]
    },
    {
      "cell_type": "code",
      "source": [
        "# Calculate yield strength\n",
        "# Use young's modulus slope starting from .2% displacement (.002 yield) to where it intersects the stress-strain curve to calculate yield strengtdef y-inter\n",
        "# get y intercept\n",
        "\n",
        "\n",
        "#return y_intercept for plotting\n",
        "# from m (Young's Modulus) and x (strain)\n",
        "# y - y0 = M (x - x0) => y = M(x-x0)  (y0 = 0 if strain is set appropriately)\n",
        "# b = m*(x-x0). Let x=0 to find b\n",
        "\n",
        "\n",
        "x0 = .002\n",
        "\n",
        "\n",
        "# Add x data for line based on upper limit of existing data to find linear _xrange:\n",
        "# y = mx+b => x = (y-b)/m\n",
        "al['yield_xline'] = (al.strain - b_al)/E_al\n",
        "pvc['yield_xline'] = (pvc.strain - b_pvc)/E_pvc\n",
        "cer['yield_xline'] = (cer.strain - b_cer)/E_cer\n",
        "\n",
        "for dat, E in [(al,E_al), (pvc,E_pvc), (cer,E_cer)]:\n",
        "  y_range = np.linspace(0,max(dat.stress),len(dat.stress))\n",
        "  x_range = y_range/E + .002\n",
        "  dat['xrange'] = x_range\n",
        "  dat['yrange'] = y_range\n",
        "\n",
        "\n",
        "for dat in [al,pvc,cer]:\n",
        "  fig, ax = plt.subplots()\n",
        "  ax = sb.lineplot(x=dat.strain, y=dat.stress);\n",
        "  ax1 = sb.lineplot(x=dat.xrange, y=dat.yrange);\n",
        "# plot.set(title='Stress-Strain Relation of Aluminum Sample');\n",
        "# plot.set(ylabel='stress (MPa)');\n",
        "\n",
        "\n",
        "# def plot_line(m,b,dat):\n",
        "#   # find max value in dat, this will be upper limit of line hieght to determine plot range\n",
        "\n",
        "# al.head()"
      ],
      "metadata": {
        "id": "hfz3ipvH0MiW",
        "colab": {
          "base_uri": "https://localhost:8080/",
          "height": 821
        },
        "outputId": "adc00df5-40fa-4bed-a2dc-f556f75aff91"
      },
      "execution_count": 64,
      "outputs": [
        {
          "output_type": "display_data",
          "data": {
            "text/plain": [
              "<Figure size 432x288 with 1 Axes>"
            ],
            "image/png": "[encoded data removed]"
          },
          "metadata": {}
        },
        {
          "output_type": "display_data",
          "data": {
            "text/plain": [
              "<Figure size 432x288 with 1 Axes>"
            ],
            "image/png": "[encoded data removed]"
          },
          "metadata": {}
        },
        {
          "output_type": "display_data",
          "data": {
            "text/plain": [
              "<Figure size 432x288 with 1 Axes>"
            ],
            "image/png": "[encoded data removed]"
          },
          "metadata": {}
        }
      ]
    },
    {
      "cell_type": "code",
      "source": [
        "al.tail()"
      ],
      "metadata": {
        "colab": {
          "base_uri": "https://localhost:8080/",
          "height": 206
        },
        "id": "i1a0VDge_5wY",
        "outputId": "25d8cc4d-8d77-463e-e99a-db88b2304826"
      },
      "execution_count": 59,
      "outputs": [
        {
          "output_type": "execute_result",
          "data": {
            "text/plain": [
              "         disp     force     time      stress    strain  yield_xline    xrange  \\\n",
              "9144  7.61714  48926.84  182.860  437.699851  0.427929     0.002062  0.002062   \n",
              "9145  7.61810  48924.44  182.880  437.678380  0.427983     0.002062  0.002062   \n",
              "9146  7.61935  48945.04  182.900  437.862668  0.428053     0.002062  0.002062   \n",
              "9147  7.62062  48988.94  182.920  438.255398  0.428125     0.002062  0.002062   \n",
              "9148  7.62088  49001.00  182.925  438.363287  0.428139     0.002062  0.002062   \n",
              "\n",
              "        yrange  \n",
              "9144  0.427952  \n",
              "9145  0.427999  \n",
              "9146  0.428046  \n",
              "9147  0.428093  \n",
              "9148  0.428139  "
            ],
            "text/html": [
              "\n",
              "  <div id=\"df-e532e70d-b557-4b45-8d37-84c47af76b19\">\n",
              "    <div class=\"colab-df-container\">\n",
              "      <div>\n",
              "<style scoped>\n",
              "    .dataframe tbody tr th:only-of-type {\n",
              "        vertical-align: middle;\n",
              "    }\n",
              "\n",
              "    .dataframe tbody tr th {\n",
              "        vertical-align: top;\n",
              "    }\n",
              "\n",
              "    .dataframe thead th {\n",
              "        text-align: right;\n",
              "    }\n",
              "</style>\n",
              "<table border=\"1\" class=\"dataframe\">\n",
              "  <thead>\n",
              "    <tr style=\"text-align: right;\">\n",
              "      <th></th>\n",
              "      <th>disp</th>\n",
              "      <th>force</th>\n",
              "      <th>time</th>\n",
              "      <th>stress</th>\n",
              "      <th>strain</th>\n",
              "      <th>yield_xline</th>\n",
              "      <th>xrange</th>\n",
              "      <th>yrange</th>\n",
              "    </tr>\n",
              "  </thead>\n",
              "  <tbody>\n",
              "    <tr>\n",
              "      <th>9144</th>\n",
              "      <td>7.61714</td>\n",
              "      <td>48926.84</td>\n",
              "      <td>182.860</td>\n",
              "      <td>437.699851</td>\n",
              "      <td>0.427929</td>\n",
              "      <td>0.002062</td>\n",
              "      <td>0.002062</td>\n",
              "      <td>0.427952</td>\n",
              "    </tr>\n",
              "    <tr>\n",
              "      <th>9145</th>\n",
              "      <td>7.61810</td>\n",
              "      <td>48924.44</td>\n",
              "      <td>182.880</td>\n",
              "      <td>437.678380</td>\n",
              "      <td>0.427983</td>\n",
              "      <td>0.002062</td>\n",
              "      <td>0.002062</td>\n",
              "      <td>0.427999</td>\n",
              "    </tr>\n",
              "    <tr>\n",
              "      <th>9146</th>\n",
              "      <td>7.61935</td>\n",
              "      <td>48945.04</td>\n",
              "      <td>182.900</td>\n",
              "      <td>437.862668</td>\n",
              "      <td>0.428053</td>\n",
              "      <td>0.002062</td>\n",
              "      <td>0.002062</td>\n",
              "      <td>0.428046</td>\n",
              "    </tr>\n",
              "    <tr>\n",
              "      <th>9147</th>\n",
              "      <td>7.62062</td>\n",
              "      <td>48988.94</td>\n",
              "      <td>182.920</td>\n",
              "      <td>438.255398</td>\n",
              "      <td>0.428125</td>\n",
              "      <td>0.002062</td>\n",
              "      <td>0.002062</td>\n",
              "      <td>0.428093</td>\n",
              "    </tr>\n",
              "    <tr>\n",
              "      <th>9148</th>\n",
              "      <td>7.62088</td>\n",
              "      <td>49001.00</td>\n",
              "      <td>182.925</td>\n",
              "      <td>438.363287</td>\n",
              "      <td>0.428139</td>\n",
              "      <td>0.002062</td>\n",
              "      <td>0.002062</td>\n",
              "      <td>0.428139</td>\n",
              "    </tr>\n",
              "  </tbody>\n",
              "</table>\n",
              "</div>\n",
              "      <button class=\"colab-df-convert\" onclick=\"convertToInteractive('df-e532e70d-b557-4b45-8d37-84c47af76b19')\"\n",
              "              title=\"Convert this dataframe to an interactive table.\"\n",
              "              style=\"display:none;\">\n",
              "        \n",
              "  <svg xmlns=\"http://www.w3.org/2000/svg\" height=\"24px\"viewBox=\"0 0 24 24\"\n",
              "       width=\"24px\">\n",
              "    <path d=\"M0 0h24v24H0V0z\" fill=\"none\"/>\n",
              "    <path d=\"M18.56 5.44l.94 2.06.94-2.06 2.06-.94-2.06-.94-.94-2.06-.94 2.06-2.06.94zm-11 1L8.5 8.5l.94-2.06 2.06-.94-2.06-.94L8.5 2.5l-.94 2.06-2.06.94zm10 10l.94 2.06.94-2.06 2.06-.94-2.06-.94-.94-2.06-.94 2.06-2.06.94z\"/><path d=\"M17.41 7.96l-1.37-1.37c-.4-.4-.92-.59-1.43-.59-.52 0-1.04.2-1.43.59L10.3 9.45l-7.72 7.72c-.78.78-.78 2.05 0 2.83L4 21.41c.39.39.9.59 1.41.59.51 0 1.02-.2 1.41-.59l7.78-7.78 2.81-2.81c.8-.78.8-2.07 0-2.86zM5.41 20L4 18.59l7.72-7.72 1.47 1.35L5.41 20z\"/>\n",
              "  </svg>\n",
              "      </button>\n",
              "      \n",
              "  <style>\n",
              "    .colab-df-container {\n",
              "      display:flex;\n",
              "      flex-wrap:wrap;\n",
              "      gap: 12px;\n",
              "    }\n",
              "\n",
              "    .colab-df-convert {\n",
              "      background-color: #E8F0FE;\n",
              "      border: none;\n",
              "      border-radius: 50%;\n",
              "      cursor: pointer;\n",
              "      display: none;\n",
              "      fill: #1967D2;\n",
              "      height: 32px;\n",
              "      padding: 0 0 0 0;\n",
              "      width: 32px;\n",
              "    }\n",
              "\n",
              "    .colab-df-convert:hover {\n",
              "      background-color: #E2EBFA;\n",
              "      box-shadow: 0px 1px 2px rgba(60, 64, 67, 0.3), 0px 1px 3px 1px rgba(60, 64, 67, 0.15);\n",
              "      fill: #174EA6;\n",
              "    }\n",
              "\n",
              "    [theme=dark] .colab-df-convert {\n",
              "      background-color: #3B4455;\n",
              "      fill: #D2E3FC;\n",
              "    }\n",
              "\n",
              "    [theme=dark] .colab-df-convert:hover {\n",
              "      background-color: #434B5C;\n",
              "      box-shadow: 0px 1px 3px 1px rgba(0, 0, 0, 0.15);\n",
              "      filter: drop-shadow(0px 1px 2px rgba(0, 0, 0, 0.3));\n",
              "      fill: #FFFFFF;\n",
              "    }\n",
              "  </style>\n",
              "\n",
              "      <script>\n",
              "        const buttonEl =\n",
              "          document.querySelector('#df-e532e70d-b557-4b45-8d37-84c47af76b19 button.colab-df-convert');\n",
              "        buttonEl.style.display =\n",
              "          google.colab.kernel.accessAllowed ? 'block' : 'none';\n",
              "\n",
              "        async function convertToInteractive(key) {\n",
              "          const element = document.querySelector('#df-e532e70d-b557-4b45-8d37-84c47af76b19');\n",
              "          const dataTable =\n",
              "            await google.colab.kernel.invokeFunction('convertToInteractive',\n",
              "                                                     [key], {});\n",
              "          if (!dataTable) return;\n",
              "\n",
              "          const docLinkHtml = 'Like what you see? Visit the ' +\n",
              "            '<a target=\"_blank\" href=https://colab.research.google.com/notebooks/data_table.ipynb>data table notebook</a>'\n",
              "            + ' to learn more about interactive tables.';\n",
              "          element.innerHTML = '';\n",
              "          dataTable['output_type'] = 'display_data';\n",
              "          await google.colab.output.renderOutput(dataTable, element);\n",
              "          const docLink = document.createElement('div');\n",
              "          docLink.innerHTML = docLinkHtml;\n",
              "          element.appendChild(docLink);\n",
              "        }\n",
              "      </script>\n",
              "    </div>\n",
              "  </div>\n",
              "  "
            ]
          },
          "metadata": {},
          "execution_count": 59
        }
      ]
    },
    {
      "cell_type": "code",
      "source": [
        ""
      ],
      "metadata": {
        "colab": {
          "base_uri": "https://localhost:8080/"
        },
        "id": "74YUfRp2_HPv",
        "outputId": "ae1a2e00-e171-4a4a-a652-a40c752e596b"
      },
      "execution_count": 55,
      "outputs": [
        {
          "output_type": "execute_result",
          "data": {
            "text/plain": [
              "array([0.        , 0.00873754, 0.01747507, 0.02621261, 0.03495015,\n",
              "       0.04368769, 0.05242522, 0.06116276, 0.0699003 , 0.07863784,\n",
              "       0.08737537, 0.09611291, 0.10485045, 0.11358798, 0.12232552,\n",
              "       0.13106306, 0.1398006 , 0.14853813, 0.15727567, 0.16601321,\n",
              "       0.17475075, 0.18348828, 0.19222582, 0.20096336, 0.20970089,\n",
              "       0.21843843, 0.22717597, 0.23591351, 0.24465104, 0.25338858,\n",
              "       0.26212612, 0.27086366, 0.27960119, 0.28833873, 0.29707627,\n",
              "       0.3058138 , 0.31455134, 0.32328888, 0.33202642, 0.34076395,\n",
              "       0.34950149, 0.35823903, 0.36697657, 0.3757141 , 0.38445164,\n",
              "       0.39318918, 0.40192671, 0.41066425, 0.41940179, 0.42813933])"
            ]
          },
          "metadata": {},
          "execution_count": 55
        }
      ]
    },
    {
      "cell_type": "code",
      "source": [
        "fig, ax = plt.subplots()\n",
        "ax = sb.lineplot(x=pvc.strain, y=pvc.stress);\n",
        "ax1 = sb.lineplot(x=pvc.yield_xline, y=pvc.stress);"
      ],
      "metadata": {
        "colab": {
          "base_uri": "https://localhost:8080/",
          "height": 285
        },
        "id": "mtfi_dfg274_",
        "outputId": "1dc4ff13-d7c5-46df-d955-c438a1ef197a"
      },
      "execution_count": 47,
      "outputs": [
        {
          "output_type": "display_data",
          "data": {
            "text/plain": [
              "<Figure size 432x288 with 1 Axes>"
            ],
            "image/png": "[encoded data removed]"
          },
          "metadata": {}
        }
      ]
    },
    {
      "cell_type": "code",
      "source": [
        ""
      ],
      "metadata": {
        "id": "lrlNiH3_3Qxc"
      },
      "execution_count": null,
      "outputs": []
    }
  ]
}